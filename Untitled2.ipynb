{
 "cells": [
  {
   "cell_type": "code",
   "execution_count": 5,
   "id": "27050dba",
   "metadata": {},
   "outputs": [
    {
     "name": "stdout",
     "output_type": "stream",
     "text": [
      "Subset of 2000 rows saved to ~/Desktop/MovieLens-resources/ratings_subset.csv\n"
     ]
    }
   ],
   "source": [
    "import pandas as pd\n",
    "\n",
    "# Specify the path to your original CSV file\n",
    "original_csv_path = \"~/Desktop/MovieLens-resources/ratings.csv\"\n",
    "\n",
    "# Specify the number of rows you want to keep\n",
    "num_rows_to_keep = 2000\n",
    "\n",
    "# Read the original CSV file\n",
    "ratings_df = pd.read_csv(original_csv_path)\n",
    "\n",
    "# Keep only the first 2000 rows\n",
    "subset_df = ratings_df.head(num_rows_to_keep)\n",
    "\n",
    "# Specify the path to save the new CSV file\n",
    "new_csv_path = \"~/Desktop/MovieLens-resources/ratings_subset.csv\"\n",
    "\n",
    "# Save the subset DataFrame to a new CSV file\n",
    "subset_df.to_csv(new_csv_path, index=False)\n",
    "\n",
    "# Display a message indicating the operation is complete\n",
    "print(f\"Subset of {num_rows_to_keep} rows saved to {new_csv_path}\")\n"
   ]
  },
  {
   "cell_type": "code",
   "execution_count": 7,
   "id": "aa3526d0",
   "metadata": {},
   "outputs": [
    {
     "ename": "SyntaxError",
     "evalue": "unterminated string literal (detected at line 20) (2280133042.py, line 20)",
     "output_type": "error",
     "traceback": [
      "\u001b[1;36m  Cell \u001b[1;32mIn[7], line 20\u001b[1;36m\u001b[0m\n\u001b[1;33m    print(f\"Subset of {num_rows_to_keep} rows saved to {n\u001b[0m\n\u001b[1;37m          ^\u001b[0m\n\u001b[1;31mSyntaxError\u001b[0m\u001b[1;31m:\u001b[0m unterminated string literal (detected at line 20)\n"
     ]
    }
   ],
   "source": [
    "\n",
    "# Specify the path to your original movies CSV file\n",
    "original_movies_csv_path = \"~/Desktop/MovieLens-resources/movies.csv\"\n",
    "\n",
    "# Specify the number of rows you want to keep\n",
    "num_rows_to_keep = 2000\n",
    "\n",
    "# Read the original movies CSV file\n",
    "movies_df = pd.read_csv(original_movies_csv_path)\n",
    "\n",
    "# Keep only the first 2000 rows\n",
    "subset_movies_df = movies_df.head(num_rows_to_keep)\n",
    "\n",
    "# Specify the path to save the new movies CSV file\n",
    "new_movies_csv_path = \"~/Desktop/MovieLens-resources/movies_subset.csv\"\n",
    "\n",
    "# Save the subset movies DataFrame to a new CSV file\n",
    "subset_movies_df.to_csv(new_movies_csv_path, index=False)\n",
    "\n",
    "# Display a message indicating the operation is complete\n",
    "print(f\"Subset of {num_rows_to_keep} rows saved to {n\n"
   ]
  },
  {
   "cell_type": "code",
   "execution_count": null,
   "id": "1fd17329",
   "metadata": {},
   "outputs": [],
   "source": []
  }
 ],
 "metadata": {
  "kernelspec": {
   "display_name": "Python 3 (ipykernel)",
   "language": "python",
   "name": "python3"
  },
  "language_info": {
   "codemirror_mode": {
    "name": "ipython",
    "version": 3
   },
   "file_extension": ".py",
   "mimetype": "text/x-python",
   "name": "python",
   "nbconvert_exporter": "python",
   "pygments_lexer": "ipython3",
   "version": "3.11.4"
  }
 },
 "nbformat": 4,
 "nbformat_minor": 5
}
