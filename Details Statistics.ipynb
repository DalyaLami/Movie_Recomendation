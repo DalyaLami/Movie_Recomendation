{
 "cells": [
  {
   "cell_type": "code",
   "execution_count": 1,
   "id": "4f5e66ad",
   "metadata": {},
   "outputs": [],
   "source": [
    "# Import necessary libraries\n",
    "import pandas as pd\n",
    "import numpy as np\n",
    "import re\n",
    "\n",
    "from sklearn.feature_extraction.text import TfidfVectorizer\n",
    "from sklearn.metrics.pairwise import cosine_similarity\n",
    "import ipywidgets as widgets\n",
    "from IPython.display import display"
   ]
  },
  {
   "cell_type": "code",
   "execution_count": 2,
   "id": "6c0e692e",
   "metadata": {},
   "outputs": [],
   "source": [
    "# Load movie and ratings data\n",
    "movies_file_path = \"C:/Users/16474/Desktop/ml-latest/movies.csv\"\n",
    "ratings_file_path = \"C:/Users/16474/Desktop/ml-latest/ratings.csv\"\n",
    "\n",
    "# Read the datasets\n",
    "movies_df = pd.read_csv(movies_file_path)\n",
    "ratings_df = pd.read_csv(ratings_file_path)\n",
    "\n",
    "# Drop the 'timestamp' column from the ratings DataFrame\n",
    "ratings_df = ratings_df.drop('timestamp', axis=1)"
   ]
  },
  {
   "cell_type": "code",
   "execution_count": 22,
   "id": "7596d68b",
   "metadata": {},
   "outputs": [
    {
     "data": {
      "text/html": [
       "<div>\n",
       "<style scoped>\n",
       "    .dataframe tbody tr th:only-of-type {\n",
       "        vertical-align: middle;\n",
       "    }\n",
       "\n",
       "    .dataframe tbody tr th {\n",
       "        vertical-align: top;\n",
       "    }\n",
       "\n",
       "    .dataframe thead th {\n",
       "        text-align: right;\n",
       "    }\n",
       "</style>\n",
       "<table border=\"1\" class=\"dataframe\">\n",
       "  <thead>\n",
       "    <tr style=\"text-align: right;\">\n",
       "      <th></th>\n",
       "      <th>movieId</th>\n",
       "      <th>title</th>\n",
       "      <th>clean_title</th>\n",
       "      <th>(no genres listed)</th>\n",
       "      <th>Action</th>\n",
       "      <th>Adventure</th>\n",
       "      <th>Animation</th>\n",
       "      <th>Children</th>\n",
       "      <th>Comedy</th>\n",
       "      <th>Crime</th>\n",
       "      <th>...</th>\n",
       "      <th>Film-Noir</th>\n",
       "      <th>Horror</th>\n",
       "      <th>IMAX</th>\n",
       "      <th>Musical</th>\n",
       "      <th>Mystery</th>\n",
       "      <th>Romance</th>\n",
       "      <th>Sci-Fi</th>\n",
       "      <th>Thriller</th>\n",
       "      <th>War</th>\n",
       "      <th>Western</th>\n",
       "    </tr>\n",
       "  </thead>\n",
       "  <tbody>\n",
       "    <tr>\n",
       "      <th>0</th>\n",
       "      <td>1</td>\n",
       "      <td>Toy Story (1995)</td>\n",
       "      <td>Toy Story</td>\n",
       "      <td>0</td>\n",
       "      <td>0</td>\n",
       "      <td>1</td>\n",
       "      <td>1</td>\n",
       "      <td>1</td>\n",
       "      <td>1</td>\n",
       "      <td>0</td>\n",
       "      <td>...</td>\n",
       "      <td>0</td>\n",
       "      <td>0</td>\n",
       "      <td>0</td>\n",
       "      <td>0</td>\n",
       "      <td>0</td>\n",
       "      <td>0</td>\n",
       "      <td>0</td>\n",
       "      <td>0</td>\n",
       "      <td>0</td>\n",
       "      <td>0</td>\n",
       "    </tr>\n",
       "    <tr>\n",
       "      <th>1</th>\n",
       "      <td>2</td>\n",
       "      <td>Jumanji (1995)</td>\n",
       "      <td>Jumanji</td>\n",
       "      <td>0</td>\n",
       "      <td>0</td>\n",
       "      <td>1</td>\n",
       "      <td>0</td>\n",
       "      <td>1</td>\n",
       "      <td>0</td>\n",
       "      <td>0</td>\n",
       "      <td>...</td>\n",
       "      <td>0</td>\n",
       "      <td>0</td>\n",
       "      <td>0</td>\n",
       "      <td>0</td>\n",
       "      <td>0</td>\n",
       "      <td>0</td>\n",
       "      <td>0</td>\n",
       "      <td>0</td>\n",
       "      <td>0</td>\n",
       "      <td>0</td>\n",
       "    </tr>\n",
       "    <tr>\n",
       "      <th>2</th>\n",
       "      <td>3</td>\n",
       "      <td>Grumpier Old Men (1995)</td>\n",
       "      <td>Grumpier Old Men</td>\n",
       "      <td>0</td>\n",
       "      <td>0</td>\n",
       "      <td>0</td>\n",
       "      <td>0</td>\n",
       "      <td>0</td>\n",
       "      <td>1</td>\n",
       "      <td>0</td>\n",
       "      <td>...</td>\n",
       "      <td>0</td>\n",
       "      <td>0</td>\n",
       "      <td>0</td>\n",
       "      <td>0</td>\n",
       "      <td>0</td>\n",
       "      <td>1</td>\n",
       "      <td>0</td>\n",
       "      <td>0</td>\n",
       "      <td>0</td>\n",
       "      <td>0</td>\n",
       "    </tr>\n",
       "    <tr>\n",
       "      <th>3</th>\n",
       "      <td>4</td>\n",
       "      <td>Waiting to Exhale (1995)</td>\n",
       "      <td>Waiting to Exhale</td>\n",
       "      <td>0</td>\n",
       "      <td>0</td>\n",
       "      <td>0</td>\n",
       "      <td>0</td>\n",
       "      <td>0</td>\n",
       "      <td>1</td>\n",
       "      <td>0</td>\n",
       "      <td>...</td>\n",
       "      <td>0</td>\n",
       "      <td>0</td>\n",
       "      <td>0</td>\n",
       "      <td>0</td>\n",
       "      <td>0</td>\n",
       "      <td>1</td>\n",
       "      <td>0</td>\n",
       "      <td>0</td>\n",
       "      <td>0</td>\n",
       "      <td>0</td>\n",
       "    </tr>\n",
       "    <tr>\n",
       "      <th>4</th>\n",
       "      <td>5</td>\n",
       "      <td>Father of the Bride Part II (1995)</td>\n",
       "      <td>Father of the Bride Part II</td>\n",
       "      <td>0</td>\n",
       "      <td>0</td>\n",
       "      <td>0</td>\n",
       "      <td>0</td>\n",
       "      <td>0</td>\n",
       "      <td>1</td>\n",
       "      <td>0</td>\n",
       "      <td>...</td>\n",
       "      <td>0</td>\n",
       "      <td>0</td>\n",
       "      <td>0</td>\n",
       "      <td>0</td>\n",
       "      <td>0</td>\n",
       "      <td>0</td>\n",
       "      <td>0</td>\n",
       "      <td>0</td>\n",
       "      <td>0</td>\n",
       "      <td>0</td>\n",
       "    </tr>\n",
       "  </tbody>\n",
       "</table>\n",
       "<p>5 rows × 23 columns</p>\n",
       "</div>"
      ],
      "text/plain": [
       "   movieId                               title                  clean_title  \\\n",
       "0        1                    Toy Story (1995)                    Toy Story   \n",
       "1        2                      Jumanji (1995)                      Jumanji   \n",
       "2        3             Grumpier Old Men (1995)             Grumpier Old Men   \n",
       "3        4            Waiting to Exhale (1995)            Waiting to Exhale   \n",
       "4        5  Father of the Bride Part II (1995)  Father of the Bride Part II   \n",
       "\n",
       "   (no genres listed)  Action  Adventure  Animation  Children  Comedy  Crime  \\\n",
       "0                   0       0          1          1         1       1      0   \n",
       "1                   0       0          1          0         1       0      0   \n",
       "2                   0       0          0          0         0       1      0   \n",
       "3                   0       0          0          0         0       1      0   \n",
       "4                   0       0          0          0         0       1      0   \n",
       "\n",
       "   ...  Film-Noir  Horror  IMAX  Musical  Mystery  Romance  Sci-Fi  Thriller  \\\n",
       "0  ...          0       0     0        0        0        0       0         0   \n",
       "1  ...          0       0     0        0        0        0       0         0   \n",
       "2  ...          0       0     0        0        0        1       0         0   \n",
       "3  ...          0       0     0        0        0        1       0         0   \n",
       "4  ...          0       0     0        0        0        0       0         0   \n",
       "\n",
       "   War  Western  \n",
       "0    0        0  \n",
       "1    0        0  \n",
       "2    0        0  \n",
       "3    0        0  \n",
       "4    0        0  \n",
       "\n",
       "[5 rows x 23 columns]"
      ]
     },
     "execution_count": 22,
     "metadata": {},
     "output_type": "execute_result"
    }
   ],
   "source": [
    "\n",
    "\n",
    "# Create 'clean_title' column by removing the release year from the title\n",
    "# Update the code to explicitly specify regex=True\n",
    "movies_df['clean_title'] = movies_df['title'].str.replace(r'\\s*\\(\\d+\\)', '', regex=True)\n",
    "\n",
    "\n",
    "# Split the 'genres' column into separate genre categories\n",
    "genres_split = movies_df['genres'].str.get_dummies('|')\n",
    "\n",
    "# Concatenate the original DataFrame with the genres DataFrame\n",
    "movies_with_genres_df = pd.concat([movies_df.drop(columns=['genres']), genres_split], axis=1)\n",
    "\n",
    "# Display the DataFrame\n",
    "movies_with_genres_df.head()"
   ]
  },
  {
   "cell_type": "code",
   "execution_count": 3,
   "id": "2e6c9bf0",
   "metadata": {},
   "outputs": [
    {
     "name": "stdout",
     "output_type": "stream",
     "text": [
      "Ratings Statistics:\n",
      "count    3.383216e+07\n",
      "mean     3.542540e+00\n",
      "std      1.063959e+00\n",
      "min      5.000000e-01\n",
      "25%      3.000000e+00\n",
      "50%      4.000000e+00\n",
      "75%      4.000000e+00\n",
      "max      5.000000e+00\n",
      "Name: rating, dtype: float64\n"
     ]
    }
   ],
   "source": [
    "\n",
    "# Calculate basic statistics for ratings\n",
    "ratings_statistics = ratings_df['rating'].describe()\n",
    "\n",
    "# Display the statistics\n",
    "print(\"Ratings Statistics:\")\n",
    "print(ratings_statistics)\n"
   ]
  },
  {
   "cell_type": "code",
   "execution_count": 4,
   "id": "3064f350",
   "metadata": {},
   "outputs": [
    {
     "name": "stdout",
     "output_type": "stream",
     "text": [
      "Number of times each movie has been rated:\n",
      "movieId\n",
      "1         76813\n",
      "2         30209\n",
      "3         15820\n",
      "4          3028\n",
      "5         15801\n",
      "          ...  \n",
      "288967        1\n",
      "288971        1\n",
      "288975        1\n",
      "288977        1\n",
      "288983        1\n",
      "Length: 83239, dtype: int64\n"
     ]
    }
   ],
   "source": [
    "# Count the number of ratings for each movie\n",
    "movie_rating_counts = ratings_df.groupby('movieId').size()\n",
    "\n",
    "# Display the movie rating counts\n",
    "print(\"Number of times each movie has been rated:\")\n",
    "print(movie_rating_counts)\n"
   ]
  },
  {
   "cell_type": "code",
   "execution_count": 5,
   "id": "793e4a63",
   "metadata": {},
   "outputs": [
    {
     "name": "stdout",
     "output_type": "stream",
     "text": [
      "Top 10 most rated movies:\n",
      "318     122296\n",
      "356     113581\n",
      "296     108756\n",
      "2571    107056\n",
      "593     101802\n",
      "260      97202\n",
      "2959     86207\n",
      "527      84232\n",
      "480      83026\n",
      "1196     80200\n",
      "Name: movieId, dtype: int64\n"
     ]
    }
   ],
   "source": [
    "# Count the number of ratings for each movie\n",
    "movie_rating_counts = ratings_df['movieId'].value_counts()\n",
    "\n",
    "# Find the top 10 most rated movies\n",
    "top_10_most_rated_movies = movie_rating_counts.head(10)\n",
    "\n",
    "# Display the top 10 most rated movies\n",
    "print(\"Top 10 most rated movies:\")\n",
    "print(top_10_most_rated_movies)\n"
   ]
  },
  {
   "cell_type": "code",
   "execution_count": 6,
   "id": "df1bcf56",
   "metadata": {},
   "outputs": [
    {
     "name": "stdout",
     "output_type": "stream",
     "text": [
      "Top 10 most rated movies:\n",
      "   movieId                                              title  rating_count\n",
      "0      318                   Shawshank Redemption, The (1994)        122296\n",
      "1      356                                Forrest Gump (1994)        113581\n",
      "2      296                                Pulp Fiction (1994)        108756\n",
      "3     2571                                 Matrix, The (1999)        107056\n",
      "4      593                   Silence of the Lambs, The (1991)        101802\n",
      "5      260          Star Wars: Episode IV - A New Hope (1977)         97202\n",
      "6     2959                                  Fight Club (1999)         86207\n",
      "7      527                            Schindler's List (1993)         84232\n",
      "8      480                               Jurassic Park (1993)         83026\n",
      "9     1196  Star Wars: Episode V - The Empire Strikes Back...         80200\n"
     ]
    }
   ],
   "source": [
    "\n",
    "# Count the number of ratings for each movie\n",
    "movie_rating_counts = ratings_df['movieId'].value_counts().reset_index()\n",
    "movie_rating_counts.columns = ['movieId', 'rating_count']\n",
    "\n",
    "# Find the top 10 most rated movies\n",
    "top_10_most_rated_movies = movie_rating_counts.head(10)\n",
    "\n",
    "# Merge with movies DataFrame to get movie names\n",
    "top_10_most_rated_movies_with_names = pd.merge(top_10_most_rated_movies, movies_df, on='movieId')\n",
    "\n",
    "# Display the top 10 most rated movies with movie names\n",
    "print(\"Top 10 most rated movies:\")\n",
    "print(top_10_most_rated_movies_with_names[['movieId', 'title', 'rating_count']])\n"
   ]
  },
  {
   "cell_type": "code",
   "execution_count": 7,
   "id": "2341cdbe",
   "metadata": {},
   "outputs": [
    {
     "name": "stdout",
     "output_type": "stream",
     "text": [
      "Top 10 movies with the highest average ratings:\n",
      "movieId\n",
      "267038    5.0\n",
      "282157    5.0\n",
      "281624    5.0\n",
      "251222    5.0\n",
      "246624    5.0\n",
      "216789    5.0\n",
      "200088    5.0\n",
      "200086    5.0\n",
      "268808    5.0\n",
      "200016    5.0\n",
      "Name: rating, dtype: float64\n"
     ]
    }
   ],
   "source": [
    "# Calculate the average rating for each movie\n",
    "average_ratings = ratings_df.groupby('movieId')['rating'].mean()\n",
    "\n",
    "# Sort the average ratings in descending order and get the top 10\n",
    "top_10_avg_ratings = average_ratings.sort_values(ascending=False).head(10)\n",
    "\n",
    "# Display the top 10 movies with the highest average ratings\n",
    "print(\"Top 10 movies with the highest average ratings:\")\n",
    "print(top_10_avg_ratings)"
   ]
  },
  {
   "cell_type": "code",
   "execution_count": 8,
   "id": "1268f147",
   "metadata": {},
   "outputs": [
    {
     "name": "stdout",
     "output_type": "stream",
     "text": [
      "Top 10 movies with the highest average ratings:\n",
      "   movieId                                       title  avg_rating\n",
      "0   267038             Christmas in the Rockies (2021)         5.0\n",
      "1   282157              A Royal Corgi Christmas (2022)         5.0\n",
      "2   281624                               Hidden (2020)         5.0\n",
      "3   251222            İstanbul Beneath My Wings (1996)         5.0\n",
      "4   246624                      Two for the Win (2021)         5.0\n",
      "5   216789  Destination: Pluto Beyond the Flyby (2016)         5.0\n",
      "6   200088                       Little Loopers (2015)         5.0\n",
      "7   200086                    2BPerfectlyHonest (2004)         5.0\n",
      "8   268808                     A Ballad of Love (1970)         5.0\n",
      "9   200016                     The Nagano Tapes (2018)         5.0\n"
     ]
    }
   ],
   "source": [
    "# Calculate the average rating for each movie\n",
    "average_ratings = ratings_df.groupby('movieId')['rating'].mean().reset_index()\n",
    "average_ratings.columns = ['movieId', 'avg_rating']\n",
    "\n",
    "# Sort the average ratings in descending order and get the top 10\n",
    "top_10_avg_ratings = average_ratings.sort_values(by='avg_rating', ascending=False).head(10)\n",
    "\n",
    "# Merge with movies DataFrame to get movie names\n",
    "top_10_avg_ratings_with_names = pd.merge(top_10_avg_ratings, movies_df, on='movieId')\n",
    "\n",
    "# Display the top 10 movies with the highest average ratings with movie names\n",
    "print(\"Top 10 movies with the highest average ratings:\")\n",
    "print(top_10_avg_ratings_with_names[['movieId', 'title', 'avg_rating']])\n"
   ]
  },
  {
   "cell_type": "code",
   "execution_count": 9,
   "id": "587e12a1",
   "metadata": {},
   "outputs": [],
   "source": [
    "# Function to clean movie titles\n",
    "def clean_title(title):\n",
    "    title = re.sub(\"[^a-zA-Z0-9 ]\", \"\", title)\n",
    "    return title\n"
   ]
  },
  {
   "cell_type": "code",
   "execution_count": 10,
   "id": "d1ca8f3f",
   "metadata": {},
   "outputs": [],
   "source": [
    "# Apply title cleaning to the movies dataframe\n",
    "movies_df[\"clean_title\"] = movies_df[\"title\"].apply(clean_title)"
   ]
  },
  {
   "cell_type": "code",
   "execution_count": 11,
   "id": "6cd6ffa6",
   "metadata": {},
   "outputs": [],
   "source": [
    "# Create TF-IDF vectorizer\n",
    "vectorizer = TfidfVectorizer(ngram_range=(1,2))\n",
    "\n",
    "tfidf = vectorizer.fit_transform(movies_df[\"clean_title\"])"
   ]
  },
  {
   "cell_type": "code",
   "execution_count": 12,
   "id": "6843c359",
   "metadata": {},
   "outputs": [],
   "source": [
    "# Function to search for movies based on input title\n",
    "def search(title):\n",
    "    title = clean_title(title)\n",
    "    query_vec = vectorizer.transform([title])\n",
    "    similarity = cosine_similarity(query_vec, tfidf).flatten()\n",
    "    indices = np.argpartition(similarity, -5)[-5:]\n",
    "    results = movies_df.iloc[indices].iloc[::-1]\n",
    "    \n",
    "    return results"
   ]
  },
  {
   "cell_type": "code",
   "execution_count": 13,
   "id": "4f0224a6",
   "metadata": {},
   "outputs": [
    {
     "data": {
      "application/vnd.jupyter.widget-view+json": {
       "model_id": "062b93360219478cb720ec1e5f08b4ef",
       "version_major": 2,
       "version_minor": 0
      },
      "text/plain": [
       "Text(value='', description='Movie Title:')"
      ]
     },
     "metadata": {},
     "output_type": "display_data"
    },
    {
     "data": {
      "application/vnd.jupyter.widget-view+json": {
       "model_id": "65b9c8b688984948a4db396278ee3c57",
       "version_major": 2,
       "version_minor": 0
      },
      "text/plain": [
       "Output()"
      ]
     },
     "metadata": {},
     "output_type": "display_data"
    }
   ],
   "source": [
    "# Widget for inputting movie title and displaying search results\n",
    "movie_input = widgets.Text(\n",
    "    \n",
    "    description='Movie Title:',\n",
    "    disabled=False\n",
    ")\n",
    "movie_list = widgets.Output()\n",
    "\n",
    "# Callback function for handling text input changes\n",
    "def on_type(data):\n",
    "    with movie_list:\n",
    "        movie_list.clear_output()\n",
    "        title = data[\"new\"]\n",
    "        if len(title) > 5:\n",
    "            display(search(title))\n",
    "\n",
    "movie_input.observe(on_type, names='value')\n",
    "\n",
    "\n",
    "display(movie_input, movie_list)"
   ]
  },
  {
   "cell_type": "code",
   "execution_count": 14,
   "id": "74209231",
   "metadata": {},
   "outputs": [],
   "source": [
    "def find_similar_movies(movie_id):\n",
    "    # Find users who like the same movie as us\n",
    "    similar_users = ratings_df[(ratings_df[\"movieId\"] == movie_id) & (ratings_df[\"rating\"] > 4)][\"userId\"].unique()\n",
    "    # Find any movie that similar_users rated 5 star\n",
    "    similar_user_recs = ratings_df[(ratings_df[\"userId\"].isin(similar_users)) & (ratings_df[\"rating\"] > 4)][\"movieId\"]\n",
    "    \n",
    "    # Only use the rating that is over 10 %\n",
    "    similar_user_recs = similar_user_recs.value_counts() / len(similar_users)\n",
    "    similar_user_recs = similar_user_recs[similar_user_recs > .10]\n",
    "    \n",
    "    # Find anyone who has rated the movies in similar_user_recs 5 star\n",
    "    all_users = ratings_df[(ratings_df[\"movieId\"].isin(similar_user_recs.index)) & (ratings_df[\"rating\"] > 4)]\n",
    "    # Find the percentage of all_users who reccomend tghe movies in similar_user_recs\n",
    "    all_user_recs = all_users[\"movieId\"].value_counts() / len(all_users[\"userId\"].unique())\n",
    "    \n",
    "    # Compare the percentage between similar_user_recs and all_user_recs\n",
    "    # We want the movies that have a big difference between \"similar\" and \"all\"\n",
    "    rec_percentages = pd.concat([similar_user_recs, all_user_recs], axis=1)\n",
    "    rec_percentages.columns = [\"similar\", \"all\"]\n",
    "    \n",
    "    # Devide \"similar\" by \"all\" to get the score and display it in ascending to have the most recommended movies on top\n",
    "    rec_percentages[\"score\"] = rec_percentages[\"similar\"] / rec_percentages[\"all\"]\n",
    "    \n",
    "    rec_percentages = rec_percentages.sort_values(\"score\", ascending=False)\n",
    "    return rec_percentages.head(10).merge(movies_df, left_index=True, right_on=\"movieId\")[[\"score\", \"title\", \"genres\"]]"
   ]
  },
  {
   "cell_type": "code",
   "execution_count": 15,
   "id": "96fe99af",
   "metadata": {},
   "outputs": [
    {
     "data": {
      "application/vnd.jupyter.widget-view+json": {
       "model_id": "5995b8cff5ea4717b8de6c10559923fe",
       "version_major": 2,
       "version_minor": 0
      },
      "text/plain": [
       "Text(value='', description='Movie Title:')"
      ]
     },
     "metadata": {},
     "output_type": "display_data"
    },
    {
     "data": {
      "application/vnd.jupyter.widget-view+json": {
       "model_id": "f1103b13033a428b813448444416fd98",
       "version_major": 2,
       "version_minor": 0
      },
      "text/plain": [
       "Output()"
      ]
     },
     "metadata": {},
     "output_type": "display_data"
    }
   ],
   "source": [
    "# Widget for inputting a movie name and displaying similar movie recommendations\n",
    "movie_name_input = widgets.Text(\n",
    "    value='',\n",
    "    description='Movie Title:',\n",
    "    disabled=False\n",
    ")\n",
    "recommendation_list = widgets.Output()\n",
    "\n",
    "# Callback function for handling text input changes\n",
    "def on_type(data):\n",
    "    with recommendation_list:\n",
    "        recommendation_list.clear_output()\n",
    "        title = data[\"new\"]\n",
    "        if len(title) > 5:\n",
    "            results = search(title)\n",
    "            movie_id = results.iloc[0][\"movieId\"]\n",
    "            display(find_similar_movies(movie_id))\n",
    "\n",
    "movie_name_input.observe(on_type, names='value')\n",
    "\n",
    "display(movie_name_input, recommendation_list)"
   ]
  },
  {
   "cell_type": "code",
   "execution_count": null,
   "id": "4e4e91fd",
   "metadata": {},
   "outputs": [],
   "source": []
  },
  {
   "cell_type": "code",
   "execution_count": null,
   "id": "84bb5ed6",
   "metadata": {},
   "outputs": [],
   "source": []
  }
 ],
 "metadata": {
  "kernelspec": {
   "display_name": "Python 3 (ipykernel)",
   "language": "python",
   "name": "python3"
  },
  "language_info": {
   "codemirror_mode": {
    "name": "ipython",
    "version": 3
   },
   "file_extension": ".py",
   "mimetype": "text/x-python",
   "name": "python",
   "nbconvert_exporter": "python",
   "pygments_lexer": "ipython3",
   "version": "3.11.4"
  }
 },
 "nbformat": 4,
 "nbformat_minor": 5
}
