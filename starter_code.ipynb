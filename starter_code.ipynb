{
 "cells": [
  {
   "cell_type": "code",
   "execution_count": 1,
   "id": "4f5e66ad",
   "metadata": {},
   "outputs": [],
   "source": [
    "import pandas as pd\n",
    "from sklearn.feature_extraction.text import TfidfVectorizer\n",
    "\n",
    "from sklearn.metrics.pairwise import cosine_similarity\n",
    "import numpy as np\n",
    "\n",
    "import ipywidgets as widgets\n",
    "from IPython.display import display\n",
    "\n",
    "import re"
   ]
  },
  {
   "cell_type": "code",
   "execution_count": 2,
   "id": "6c0e692e",
   "metadata": {},
   "outputs": [],
   "source": [
    "movies_df = pd.read_csv(\"~/Desktop/MovieLens-resources/movies.csv\")\n",
    "\n",
    "ratings_df = pd.read_csv(\"~/Desktop/MovieLens-resources/ratings.csv\")"
   ]
  },
  {
   "cell_type": "code",
   "execution_count": 3,
   "id": "f50e9fe8",
   "metadata": {},
   "outputs": [],
   "source": [
    "# ratings_df = ratings_df.loc[ratings_df['userId'] <= 1050]"
   ]
  },
  {
   "cell_type": "code",
   "execution_count": 4,
   "id": "2e0f5149",
   "metadata": {},
   "outputs": [],
   "source": [
    "# ratings_df = ratings_df.drop('timestamp',axis=1)\n",
    "# ratings_df"
   ]
  },
  {
   "cell_type": "code",
   "execution_count": 5,
   "id": "587e12a1",
   "metadata": {},
   "outputs": [],
   "source": [
    "def clean_title(title):\n",
    "    title = re.sub(\"[^a-zA-Z0-9 ]\", \"\", title)\n",
    "    return title\n"
   ]
  },
  {
   "cell_type": "code",
   "execution_count": 6,
   "id": "d1ca8f3f",
   "metadata": {},
   "outputs": [],
   "source": [
    "movies_df[\"clean_title\"] = movies_df[\"title\"].apply(clean_title)"
   ]
  },
  {
   "cell_type": "code",
   "execution_count": 8,
   "id": "6cd6ffa6",
   "metadata": {},
   "outputs": [],
   "source": [
    "vectorizer = TfidfVectorizer(ngram_range=(1,2))\n",
    "\n",
    "tfidf = vectorizer.fit_transform(movies_df[\"clean_title\"])"
   ]
  },
  {
   "cell_type": "code",
   "execution_count": 9,
   "id": "6843c359",
   "metadata": {},
   "outputs": [],
   "source": [
    "def search(title):\n",
    "    title = clean_title(title)\n",
    "    query_vec = vectorizer.transform([title])\n",
    "    similarity = cosine_similarity(query_vec, tfidf).flatten()\n",
    "    indices = np.argpartition(similarity, -5)[-5:]\n",
    "    results = movies_df.iloc[indices].iloc[::-1]\n",
    "    \n",
    "    return results"
   ]
  },
  {
   "cell_type": "code",
   "execution_count": 10,
   "id": "4f0224a6",
   "metadata": {},
   "outputs": [
    {
     "data": {
      "application/vnd.jupyter.widget-view+json": {
       "model_id": "3cf0cc61f58b44adbe4a605f21882164",
       "version_major": 2,
       "version_minor": 0
      },
      "text/plain": [
       "Text(value='', description='Movie Title:')"
      ]
     },
     "metadata": {},
     "output_type": "display_data"
    },
    {
     "data": {
      "application/vnd.jupyter.widget-view+json": {
       "model_id": "98b674f65bed4ec3a69335d99f540911",
       "version_major": 2,
       "version_minor": 0
      },
      "text/plain": [
       "Output()"
      ]
     },
     "metadata": {},
     "output_type": "display_data"
    }
   ],
   "source": [
    "movie_input = widgets.Text(\n",
    "    \n",
    "    description='Movie Title:',\n",
    "    disabled=False\n",
    ")\n",
    "movie_list = widgets.Output()\n",
    "\n",
    "def on_type(data):\n",
    "    with movie_list:\n",
    "        movie_list.clear_output()\n",
    "        title = data[\"new\"]\n",
    "        if len(title) > 5:\n",
    "            display(search(title))\n",
    "\n",
    "movie_input.observe(on_type, names='value')\n",
    "\n",
    "\n",
    "display(movie_input, movie_list)"
   ]
  },
  {
   "cell_type": "code",
   "execution_count": 11,
   "id": "7880cf19",
   "metadata": {},
   "outputs": [],
   "source": [
    "# movie_id = 89745\n",
    "\n",
    "# #def find_similar_movies(movie_id):\n",
    "# movie = movies_df[movies_df[\"movieId\"] == movie_id]"
   ]
  },
  {
   "cell_type": "code",
   "execution_count": 12,
   "id": "1f0a8cf5",
   "metadata": {},
   "outputs": [],
   "source": [
    "# similar_users = ratings_df[(ratings_df[\"movieId\"] == movie_id) & (ratings_df[\"rating\"] > 4)][\"userId\"].unique()\n",
    "\n",
    "# similar_user_recs = ratings_df[(ratings_df[\"userId\"].isin(similar_users)) & (ratings_df[\"rating\"] > 4)][\"movieId\"]"
   ]
  },
  {
   "cell_type": "code",
   "execution_count": 13,
   "id": "aa87f273",
   "metadata": {},
   "outputs": [],
   "source": [
    "# similar_user_recs = similar_user_recs.value_counts() / len(similar_users)\n",
    "\n",
    "# similar_user_recs = similar_user_recs[similar_user_recs > .10]\n",
    "\n",
    "# similar_user_recs"
   ]
  },
  {
   "cell_type": "code",
   "execution_count": 14,
   "id": "8291aee8",
   "metadata": {},
   "outputs": [],
   "source": [
    "# all_users = ratings_df[(ratings_df[\"movieId\"].isin(similar_user_recs.index)) & (ratings_df[\"rating\"] > 4)]\n",
    "\n",
    "# all_user_recs = all_users[\"movieId\"].value_counts() / len(all_users[\"userId\"].unique())\n",
    "\n",
    "# all_user_recs"
   ]
  },
  {
   "cell_type": "code",
   "execution_count": 15,
   "id": "2d2ff2aa",
   "metadata": {},
   "outputs": [],
   "source": [
    "# rec_percentages = pd.concat([similar_user_recs, all_user_recs], axis=1)\n",
    "\n",
    "# rec_percentages.columns = [\"similar\", \"all\"]\n",
    "\n",
    "# rec_percentages"
   ]
  },
  {
   "cell_type": "code",
   "execution_count": 16,
   "id": "00c06ff0",
   "metadata": {},
   "outputs": [],
   "source": [
    "# rec_percentages[\"score\"] = rec_percentages[\"similar\"] / rec_percentages[\"all\"]\n",
    "\n",
    "# rec_percentages = rec_percentages.sort_values(\"score\", ascending=False)\n",
    "\n",
    "# rec_percentages.head(10).merge(movies_df, left_index=True, right_on=\"movieId\")"
   ]
  },
  {
   "cell_type": "code",
   "execution_count": 17,
   "id": "74209231",
   "metadata": {},
   "outputs": [],
   "source": [
    "def find_similar_movies(movie_id):\n",
    "    similar_users = ratings_df[(ratings_df[\"movieId\"] == movie_id) & (ratings_df[\"rating\"] > 4)][\"userId\"].unique()\n",
    "    similar_user_recs = ratings_df[(ratings_df[\"userId\"].isin(similar_users)) & (ratings_df[\"rating\"] > 4)][\"movieId\"]\n",
    "    \n",
    "    similar_user_recs = similar_user_recs.value_counts() / len(similar_users)\n",
    "    similar_user_recs = similar_user_recs[similar_user_recs > .10]\n",
    "    \n",
    "    all_users = ratings_df[(ratings_df[\"movieId\"].isin(similar_user_recs.index)) & (ratings_df[\"rating\"] > 4)]\n",
    "    all_user_recs = all_users[\"movieId\"].value_counts() / len(all_users[\"userId\"].unique())\n",
    "    \n",
    "    rec_percentages = pd.concat([similar_user_recs, all_user_recs], axis=1)\n",
    "    rec_percentages.columns = [\"similar\", \"all\"]\n",
    "    \n",
    "    rec_percentages[\"score\"] = rec_percentages[\"similar\"] / rec_percentages[\"all\"]\n",
    "    \n",
    "    rec_percentages = rec_percentages.sort_values(\"score\", ascending=False)\n",
    "    return rec_percentages.head(10).merge(movies_df, left_index=True, right_on=\"movieId\")[[\"score\", \"title\", \"genres\"]]"
   ]
  },
  {
   "cell_type": "code",
   "execution_count": 18,
   "id": "96fe99af",
   "metadata": {},
   "outputs": [
    {
     "data": {
      "application/vnd.jupyter.widget-view+json": {
       "model_id": "6c1c15db15624798aaad8a3b85656ca6",
       "version_major": 2,
       "version_minor": 0
      },
      "text/plain": [
       "Text(value='', description='Movie Title:')"
      ]
     },
     "metadata": {},
     "output_type": "display_data"
    },
    {
     "data": {
      "application/vnd.jupyter.widget-view+json": {
       "model_id": "f9529c6a653f4f2598fc4130a109f656",
       "version_major": 2,
       "version_minor": 0
      },
      "text/plain": [
       "Output()"
      ]
     },
     "metadata": {},
     "output_type": "display_data"
    }
   ],
   "source": [
    "movie_name_input = widgets.Text(\n",
    "    value='',\n",
    "    description='Movie Title:',\n",
    "    disabled=False\n",
    ")\n",
    "recommendation_list = widgets.Output()\n",
    "\n",
    "def on_type(data):\n",
    "    with recommendation_list:\n",
    "        recommendation_list.clear_output()\n",
    "        title = data[\"new\"]\n",
    "        if len(title) > 5:\n",
    "            results = search(title)\n",
    "            movie_id = results.iloc[0][\"movieId\"]\n",
    "            display(find_similar_movies(movie_id))\n",
    "\n",
    "movie_name_input.observe(on_type, names='value')\n",
    "\n",
    "display(movie_name_input, recommendation_list)"
   ]
  },
  {
   "cell_type": "code",
   "execution_count": null,
   "id": "4e4e91fd",
   "metadata": {},
   "outputs": [],
   "source": []
  }
 ],
 "metadata": {
  "kernelspec": {
   "display_name": "Python 3 (ipykernel)",
   "language": "python",
   "name": "python3"
  },
  "language_info": {
   "codemirror_mode": {
    "name": "ipython",
    "version": 3
   },
   "file_extension": ".py",
   "mimetype": "text/x-python",
   "name": "python",
   "nbconvert_exporter": "python",
   "pygments_lexer": "ipython3",
   "version": "3.11.4"
  }
 },
 "nbformat": 4,
 "nbformat_minor": 5
}
