{
 "cells": [
  {
   "cell_type": "code",
   "execution_count": 50,
   "metadata": {
    "id": "7jcvKtRlIREX"
   },
   "outputs": [],
   "source": [
    "import pandas as pd\n",
    "from surprise import Dataset, Reader, SVD, accuracy, dump\n",
    "from surprise.model_selection import train_test_split\n",
    "import numpy as np\n",
    "import ipywidgets as widgets\n",
    "from IPython.display import display\n",
    "from IPython.display import HTML\n"
   ]
  },
  {
   "cell_type": "code",
   "execution_count": 51,
   "metadata": {
    "id": "E4UaYKKsI6z4"
   },
   "outputs": [],
   "source": [
    "# Load movie and ratings data\n",
    "movies_df = pd.read_csv(\"~/Desktop/MovieLens-resources/movies.csv\")\n",
    "ratings_df = pd.read_csv(\"~/Desktop/MovieLens-resources/ratings.csv\")\n",
    "\n",
    "# Drop timestamp column and limit the number of rows to 100,000 for faster processing\n",
    "# ratings_df = ratings_df.drop('timestamp', axis=1)\n",
    "ratings_df = ratings_df.iloc[:1000000]\n",
    "\n",
    "# Merge movie and ratings data\n",
    "merged_df = pd.merge(ratings_df, movies_df, on='movieId')"
   ]
  },
  {
   "cell_type": "code",
   "execution_count": 52,
   "metadata": {
    "colab": {
     "base_uri": "https://localhost:8080/",
     "height": 423
    },
    "id": "PeiiqvobI8Vr",
    "outputId": "7b99cb69-f7dc-4bb7-8c91-27a65e9f2435"
   },
   "outputs": [
    {
     "data": {
      "text/html": [
       "<div>\n",
       "<style scoped>\n",
       "    .dataframe tbody tr th:only-of-type {\n",
       "        vertical-align: middle;\n",
       "    }\n",
       "\n",
       "    .dataframe tbody tr th {\n",
       "        vertical-align: top;\n",
       "    }\n",
       "\n",
       "    .dataframe thead th {\n",
       "        text-align: right;\n",
       "    }\n",
       "</style>\n",
       "<table border=\"1\" class=\"dataframe\">\n",
       "  <thead>\n",
       "    <tr style=\"text-align: right;\">\n",
       "      <th></th>\n",
       "      <th>userId</th>\n",
       "      <th>movieId</th>\n",
       "      <th>rating</th>\n",
       "      <th>timestamp</th>\n",
       "      <th>title</th>\n",
       "      <th>genres</th>\n",
       "    </tr>\n",
       "  </thead>\n",
       "  <tbody>\n",
       "    <tr>\n",
       "      <th>0</th>\n",
       "      <td>1</td>\n",
       "      <td>1</td>\n",
       "      <td>4.0</td>\n",
       "      <td>1225734739</td>\n",
       "      <td>Toy Story (1995)</td>\n",
       "      <td>Adventure|Animation|Children|Comedy|Fantasy</td>\n",
       "    </tr>\n",
       "    <tr>\n",
       "      <th>1</th>\n",
       "      <td>2</td>\n",
       "      <td>1</td>\n",
       "      <td>5.0</td>\n",
       "      <td>835815971</td>\n",
       "      <td>Toy Story (1995)</td>\n",
       "      <td>Adventure|Animation|Children|Comedy|Fantasy</td>\n",
       "    </tr>\n",
       "    <tr>\n",
       "      <th>2</th>\n",
       "      <td>7</td>\n",
       "      <td>1</td>\n",
       "      <td>4.0</td>\n",
       "      <td>974518024</td>\n",
       "      <td>Toy Story (1995)</td>\n",
       "      <td>Adventure|Animation|Children|Comedy|Fantasy</td>\n",
       "    </tr>\n",
       "    <tr>\n",
       "      <th>3</th>\n",
       "      <td>10</td>\n",
       "      <td>1</td>\n",
       "      <td>3.0</td>\n",
       "      <td>1430666394</td>\n",
       "      <td>Toy Story (1995)</td>\n",
       "      <td>Adventure|Animation|Children|Comedy|Fantasy</td>\n",
       "    </tr>\n",
       "    <tr>\n",
       "      <th>4</th>\n",
       "      <td>12</td>\n",
       "      <td>1</td>\n",
       "      <td>5.0</td>\n",
       "      <td>862500738</td>\n",
       "      <td>Toy Story (1995)</td>\n",
       "      <td>Adventure|Animation|Children|Comedy|Fantasy</td>\n",
       "    </tr>\n",
       "  </tbody>\n",
       "</table>\n",
       "</div>"
      ],
      "text/plain": [
       "   userId  movieId  rating   timestamp             title  \\\n",
       "0       1        1     4.0  1225734739  Toy Story (1995)   \n",
       "1       2        1     5.0   835815971  Toy Story (1995)   \n",
       "2       7        1     4.0   974518024  Toy Story (1995)   \n",
       "3      10        1     3.0  1430666394  Toy Story (1995)   \n",
       "4      12        1     5.0   862500738  Toy Story (1995)   \n",
       "\n",
       "                                        genres  \n",
       "0  Adventure|Animation|Children|Comedy|Fantasy  \n",
       "1  Adventure|Animation|Children|Comedy|Fantasy  \n",
       "2  Adventure|Animation|Children|Comedy|Fantasy  \n",
       "3  Adventure|Animation|Children|Comedy|Fantasy  \n",
       "4  Adventure|Animation|Children|Comedy|Fantasy  "
      ]
     },
     "execution_count": 52,
     "metadata": {},
     "output_type": "execute_result"
    }
   ],
   "source": [
    "merged_df.head()"
   ]
  },
  {
   "cell_type": "code",
   "execution_count": 53,
   "metadata": {
    "id": "qU0FrlUJI-_h"
   },
   "outputs": [],
   "source": [
    "# Define a rating scale for Surprise Reader\n",
    "reader = Reader(rating_scale=(0.5, 5.0))"
   ]
  },
  {
   "cell_type": "code",
   "execution_count": 54,
   "metadata": {
    "id": "7f-pQt0zJPoW"
   },
   "outputs": [],
   "source": [
    "# Load data into a Surprise Dataset\n",
    "data = Dataset.load_from_df(merged_df[['userId', 'movieId', 'rating']], reader)"
   ]
  },
  {
   "cell_type": "code",
   "execution_count": 55,
   "metadata": {
    "id": "lJrJoBuZJvNy"
   },
   "outputs": [],
   "source": [
    "# Split the data into training and testing sets\n",
    "trainset, testset = train_test_split(data, test_size=0.2)"
   ]
  },
  {
   "cell_type": "code",
   "execution_count": 56,
   "metadata": {
    "id": "oqrhmKrRJ72S"
   },
   "outputs": [
    {
     "data": {
      "text/plain": [
       "<surprise.prediction_algorithms.matrix_factorization.SVD at 0x11e7863d0>"
      ]
     },
     "execution_count": 56,
     "metadata": {},
     "output_type": "execute_result"
    }
   ],
   "source": [
    "# Initialize an SVD model and train it on the training set\n",
    "algo = SVD()\n",
    "algo.fit(trainset)"
   ]
  },
  {
   "cell_type": "code",
   "execution_count": 57,
   "metadata": {
    "id": "N6-LdQSlKAeO"
   },
   "outputs": [
    {
     "name": "stdout",
     "output_type": "stream",
     "text": [
      "RMSE: 0.8372\n"
     ]
    },
    {
     "data": {
      "text/plain": [
       "0.8372202713177629"
      ]
     },
     "execution_count": 57,
     "metadata": {},
     "output_type": "execute_result"
    }
   ],
   "source": [
    "# Make predictions on the test set and calculate RMSE\n",
    "predictions = algo.test(testset)\n",
    "accuracy.rmse(predictions)"
   ]
  },
  {
   "cell_type": "markdown",
   "metadata": {},
   "source": [
    "# testing"
   ]
  },
  {
   "cell_type": "code",
   "execution_count": 58,
   "metadata": {
    "colab": {
     "base_uri": "https://localhost:8080/"
    },
    "id": "EjBxvt6dJ7L6",
    "outputId": "15639925-dabe-4ae1-b196-84eb1828a9e6"
   },
   "outputs": [
    {
     "name": "stdout",
     "output_type": "stream",
     "text": [
      "2.7291695226362016\n"
     ]
    }
   ],
   "source": [
    "# 1 \n",
    "user_id = 10\n",
    "movie_id = 15\n",
    "predicted_rating = algo.predict(user_id, movie_id)\n",
    "print(predicted_rating.est)"
   ]
  },
  {
   "cell_type": "code",
   "execution_count": 59,
   "metadata": {
    "colab": {
     "base_uri": "https://localhost:8080/"
    },
    "id": "SgrZ37XKUlqA",
    "outputId": "0a2de549-10c0-4976-d1fb-78cc74dcf3cd"
   },
   "outputs": [
    {
     "name": "stdout",
     "output_type": "stream",
     "text": [
      "3.6358458536916456\n"
     ]
    }
   ],
   "source": [
    "# 2\n",
    "user_id = 22\n",
    "movie_id = 1\n",
    "predicted_rating = algo.predict(user_id, movie_id)\n",
    "print(predicted_rating.est)"
   ]
  },
  {
   "cell_type": "code",
   "execution_count": 60,
   "metadata": {
    "colab": {
     "base_uri": "https://localhost:8080/"
    },
    "id": "ZtKin9-xVLR7",
    "outputId": "a48faab6-1ed4-4593-eebb-e420796d0e79"
   },
   "outputs": [
    {
     "name": "stdout",
     "output_type": "stream",
     "text": [
      "2.911015309462182\n"
     ]
    }
   ],
   "source": [
    "# 3\n",
    "user_id = 25\n",
    "movie_id = 20\n",
    "predicted_rating = algo.predict(user_id, movie_id)\n",
    "print(predicted_rating.est)"
   ]
  },
  {
   "cell_type": "markdown",
   "metadata": {},
   "source": [
    "# movie rec"
   ]
  },
  {
   "cell_type": "code",
   "execution_count": 61,
   "metadata": {},
   "outputs": [],
   "source": [
    "# Create widgets for user input and display\n",
    "user_id_input = widgets.IntText(value=1, description='User ID:', min=1)\n",
    "recommend_button = widgets.Button(description='Recommend')\n",
    "output_box = widgets.Output()"
   ]
  },
  {
   "cell_type": "code",
   "execution_count": 62,
   "metadata": {},
   "outputs": [
    {
     "data": {
      "application/vnd.jupyter.widget-view+json": {
       "model_id": "59a1d64f8e8c4dab8b0a121da97dca94",
       "version_major": 2,
       "version_minor": 0
      },
      "text/plain": [
       "IntText(value=1, description='User ID:')"
      ]
     },
     "metadata": {},
     "output_type": "display_data"
    },
    {
     "data": {
      "application/vnd.jupyter.widget-view+json": {
       "model_id": "f73efba2121d4e30a54b4e16bc4e9cef",
       "version_major": 2,
       "version_minor": 0
      },
      "text/plain": [
       "Button(description='Recommend', style=ButtonStyle())"
      ]
     },
     "metadata": {},
     "output_type": "display_data"
    },
    {
     "data": {
      "application/vnd.jupyter.widget-view+json": {
       "model_id": "91b20a0887a344cb97a09a349c1cd87a",
       "version_major": 2,
       "version_minor": 0
      },
      "text/plain": [
       "Output()"
      ]
     },
     "metadata": {},
     "output_type": "display_data"
    }
   ],
   "source": [
    "from IPython.display import HTML\n",
    "\n",
    "def get_recommendations(button):\n",
    "    with output_box:\n",
    "        # Clear previous output\n",
    "        output_box.clear_output(wait=True)\n",
    "        \n",
    "        # Get user input\n",
    "        user_id_to_recommend = user_id_input.value\n",
    "        \n",
    "        # Filter out movies the user has already rated\n",
    "        user_movies = merged_df[merged_df['userId'] == user_id_to_recommend]\n",
    "        \n",
    "        # Sort the user's rated movies by timestamp in descending order\n",
    "        user_top_movies = user_movies.sort_values(by='timestamp', ascending=False).head(5)\n",
    "        \n",
    "        # Display the top 5 highest-rated movies watched by the user\n",
    "        display(HTML(\"<b>Top 5 Most Recently Watched Movies by User:</b>\"))\n",
    "        for index, row in user_top_movies.iterrows():\n",
    "            print(f\"{row['title']}, Rating: {row['rating']}\")\n",
    "        \n",
    "        # Filter out movies the user has already rated\n",
    "        movies_to_recommend = movies_df[~movies_df['movieId'].isin(user_movies['movieId'])]\n",
    "        \n",
    "        # Create a list of (movieId, estimated_rating) tuples for the user\n",
    "        movie_recommendations = [(movie_id, algo.predict(user_id_to_recommend, movie_id).est) for movie_id in movies_to_recommend['movieId']]\n",
    "        \n",
    "        # Sort the list by estimated rating in descending order\n",
    "        movie_recommendations.sort(key=lambda x: x[1], reverse=True)\n",
    "        \n",
    "        # Display the top 5 recommended movies with numbered indices\n",
    "        display(HTML(\"<b>Top 5 Recommended Movies:</b>\"))\n",
    "        for index, (movie_id, estimated_rating) in enumerate(movie_recommendations[:5], start=1):\n",
    "            movie_title = movies_df[movies_df['movieId'] == movie_id]['title'].values[0]\n",
    "            print(f\"{index}. {movie_title}, Estimated Rating: {estimated_rating}\")\n",
    "\n",
    "# Attach the function to the button's click event\n",
    "recommend_button.on_click(get_recommendations)\n",
    "\n",
    "# Display widgets\n",
    "display(user_id_input, recommend_button, output_box)\n"
   ]
  },
  {
   "cell_type": "code",
   "execution_count": null,
   "metadata": {},
   "outputs": [],
   "source": []
  }
 ],
 "metadata": {
  "colab": {
   "provenance": []
  },
  "kernelspec": {
   "display_name": "Python 3 (ipykernel)",
   "language": "python",
   "name": "python3"
  },
  "language_info": {
   "codemirror_mode": {
    "name": "ipython",
    "version": 3
   },
   "file_extension": ".py",
   "mimetype": "text/x-python",
   "name": "python",
   "nbconvert_exporter": "python",
   "pygments_lexer": "ipython3",
   "version": "3.11.4"
  }
 },
 "nbformat": 4,
 "nbformat_minor": 1
}
