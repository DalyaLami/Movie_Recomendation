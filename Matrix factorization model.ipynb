{
 "cells": [
  {
   "cell_type": "code",
   "execution_count": 1,
   "id": "c002c6d4",
   "metadata": {},
   "outputs": [],
   "source": [
    "import pandas as pd\n",
    "from surprise import Dataset, Reader, SVD, accuracy\n",
    "from surprise.model_selection import train_test_split\n",
    "import numpy as np"
   ]
  },
  {
   "cell_type": "code",
   "execution_count": 2,
   "id": "26f7726a",
   "metadata": {},
   "outputs": [],
   "source": [
    "# Load movie ratings data\n",
    "ratings_df = pd.read_csv(\"~/Desktop/MovieLens-resources/ratings.csv\")\n",
    "ratings_df = ratings_df.drop('timestamp', axis=1)\n"
   ]
  },
  {
   "cell_type": "code",
   "execution_count": 3,
   "id": "2032c764",
   "metadata": {},
   "outputs": [],
   "source": [
    "# Load movies data\n",
    "movies_df = pd.read_csv(\"~/Desktop/MovieLens-resources/movies.csv\")\n"
   ]
  },
  {
   "cell_type": "code",
   "execution_count": 4,
   "id": "fc69459e",
   "metadata": {},
   "outputs": [],
   "source": [
    "# Create a Surprise Reader and Dataset\n",
    "reader = Reader(rating_scale=(0.5, 5))\n",
    "data = Dataset.load_from_df(ratings_df[['userId', 'movieId', 'rating']], reader)\n"
   ]
  },
  {
   "cell_type": "code",
   "execution_count": 5,
   "id": "43f8e508",
   "metadata": {},
   "outputs": [],
   "source": [
    "# Split the dataset\n",
    "trainset, testset = train_test_split(data, test_size=0.2, random_state=42)\n"
   ]
  },
  {
   "cell_type": "code",
   "execution_count": 6,
   "id": "fb572e5a",
   "metadata": {},
   "outputs": [
    {
     "data": {
      "text/plain": [
       "<surprise.prediction_algorithms.matrix_factorization.SVD at 0x2197ff505d0>"
      ]
     },
     "execution_count": 6,
     "metadata": {},
     "output_type": "execute_result"
    }
   ],
   "source": [
    "# Train the SVD model\n",
    "svd_model = SVD()\n",
    "svd_model.fit(trainset)"
   ]
  },
  {
   "cell_type": "code",
   "execution_count": 11,
   "id": "06a67eef",
   "metadata": {},
   "outputs": [],
   "source": [
    "# Make predictions on the test set\n",
    "predictions = svd_model.test(testset)"
   ]
  },
  {
   "cell_type": "code",
   "execution_count": 13,
   "id": "03f83f27",
   "metadata": {},
   "outputs": [
    {
     "name": "stdout",
     "output_type": "stream",
     "text": [
      "RMSE: 0.7862\n",
      "Root Mean Squared Error (RMSE): 0.7861738221464648\n"
     ]
    }
   ],
   "source": [
    "# Evaluate the model\n",
    "rmse = accuracy.rmse(predictions)\n",
    "print(f\"Root Mean Squared Error (RMSE): {rmse}\")"
   ]
  },
  {
   "cell_type": "code",
   "execution_count": 14,
   "id": "ca63fef9",
   "metadata": {},
   "outputs": [],
   "source": [
    "# Function to get similar movies for a given movie title\n",
    "def get_similar_movies(movie_title, model, movies_df, n=5):\n",
    "    # Get the movieId for the input movie title\n",
    "    movie_id = movies_df[movies_df['title'] == movie_title]['movieId'].iloc[0]\n",
    "    \n",
    "    # Get the latent factors for the input movie\n",
    "    movie_factors = model.qi[movie_id]\n",
    "    \n",
    "    # Compute the cosine similarity between the input movie and all other movies\n",
    "    similarities = np.dot(model.qi, movie_factors)\n",
    "    \n",
    "    # Get indices of top n most similar movies\n",
    "    similar_movie_indices = np.argsort(similarities)[::-1][:n+1]\n",
    "    \n",
    "    # Exclude the input movie itself\n",
    "    similar_movie_indices = similar_movie_indices[similar_movie_indices != movie_id]\n",
    "    \n",
    "    # Get the titles of similar movies\n",
    "    similar_movies = movies_df[movies_df['movieId'].isin(similar_movie_indices)]['title'].tolist()\n",
    "    \n",
    "    return similar_movies\n"
   ]
  },
  {
   "cell_type": "code",
   "execution_count": 19,
   "id": "d94c28a1",
   "metadata": {},
   "outputs": [
    {
     "ename": "IndexError",
     "evalue": "index 187541 is out of bounds for axis 0 with size 79146",
     "output_type": "error",
     "traceback": [
      "\u001b[1;31m---------------------------------------------------------------------------\u001b[0m",
      "\u001b[1;31mIndexError\u001b[0m                                Traceback (most recent call last)",
      "Cell \u001b[1;32mIn[19], line 3\u001b[0m\n\u001b[0;32m      1\u001b[0m \u001b[38;5;66;03m# Example: Enter a movie and get similar movies\u001b[39;00m\n\u001b[0;32m      2\u001b[0m input_movie \u001b[38;5;241m=\u001b[39m \u001b[38;5;124m\"\u001b[39m\u001b[38;5;124mIncredibles 2 (2018)\u001b[39m\u001b[38;5;124m\"\u001b[39m\n\u001b[1;32m----> 3\u001b[0m similar_movies \u001b[38;5;241m=\u001b[39m get_similar_movies(input_movie, svd_model, movies_df, n\u001b[38;5;241m=\u001b[39m\u001b[38;5;241m5\u001b[39m)\n",
      "Cell \u001b[1;32mIn[14], line 7\u001b[0m, in \u001b[0;36mget_similar_movies\u001b[1;34m(movie_title, model, movies_df, n)\u001b[0m\n\u001b[0;32m      4\u001b[0m movie_id \u001b[38;5;241m=\u001b[39m movies_df[movies_df[\u001b[38;5;124m'\u001b[39m\u001b[38;5;124mtitle\u001b[39m\u001b[38;5;124m'\u001b[39m] \u001b[38;5;241m==\u001b[39m movie_title][\u001b[38;5;124m'\u001b[39m\u001b[38;5;124mmovieId\u001b[39m\u001b[38;5;124m'\u001b[39m]\u001b[38;5;241m.\u001b[39miloc[\u001b[38;5;241m0\u001b[39m]\n\u001b[0;32m      6\u001b[0m \u001b[38;5;66;03m# Get the latent factors for the input movie\u001b[39;00m\n\u001b[1;32m----> 7\u001b[0m movie_factors \u001b[38;5;241m=\u001b[39m model\u001b[38;5;241m.\u001b[39mqi[movie_id]\n\u001b[0;32m      9\u001b[0m \u001b[38;5;66;03m# Compute the cosine similarity between the input movie and all other movies\u001b[39;00m\n\u001b[0;32m     10\u001b[0m similarities \u001b[38;5;241m=\u001b[39m np\u001b[38;5;241m.\u001b[39mdot(model\u001b[38;5;241m.\u001b[39mqi, movie_factors)\n",
      "\u001b[1;31mIndexError\u001b[0m: index 187541 is out of bounds for axis 0 with size 79146"
     ]
    }
   ],
   "source": [
    "# Example: Enter a movie and get similar movies\n",
    "input_movie = \"Incredibles 2 (2018)\"\n",
    "similar_movies = get_similar_movies(input_movie, svd_model, movies_df, n=5)\n",
    "\n"
   ]
  },
  {
   "cell_type": "code",
   "execution_count": null,
   "id": "90fc9d09",
   "metadata": {},
   "outputs": [],
   "source": [
    "# Display the results\n",
    "print(f\"Movies similar to '{input_movie}':\")\n",
    "for i, movie in enumerate(similar_movies, start=1):\n",
    "    print(f\"{i}. {movie}\")"
   ]
  },
  {
   "cell_type": "code",
   "execution_count": null,
   "id": "efb801a6",
   "metadata": {},
   "outputs": [],
   "source": []
  }
 ],
 "metadata": {
  "kernelspec": {
   "display_name": "Python 3 (ipykernel)",
   "language": "python",
   "name": "python3"
  },
  "language_info": {
   "codemirror_mode": {
    "name": "ipython",
    "version": 3
   },
   "file_extension": ".py",
   "mimetype": "text/x-python",
   "name": "python",
   "nbconvert_exporter": "python",
   "pygments_lexer": "ipython3",
   "version": "3.11.4"
  }
 },
 "nbformat": 4,
 "nbformat_minor": 5
}
